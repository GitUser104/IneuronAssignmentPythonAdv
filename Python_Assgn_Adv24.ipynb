{
 "cells": [
  {
   "cell_type": "code",
   "execution_count": null,
   "id": "1990d3f9",
   "metadata": {},
   "outputs": [],
   "source": [
    "#Question1\n",
    "'''\n",
    "Yes we can use several import statements to import the same module but python if \n",
    "once imported simply ignores the other import commands. \n",
    "We can also use the import command to import specific package from a module.\n",
    "Importing a module multiple times can be beneficial for large scale projects which \n",
    "have different files and folders but are fetching data from each other.\n",
    "'''"
   ]
  },
  {
   "cell_type": "code",
   "execution_count": null,
   "id": "675df923",
   "metadata": {},
   "outputs": [],
   "source": [
    "#Question2\n",
    "'''\n",
    "The biggest benefit of a module is that it can be used by anyone and anywhere.\n",
    "This characterstic of module can be defined as the ability to compiled separately\n",
    "and stored in a library.\n",
    "Now this library can be imported by any programmer and can be used on his system\n",
    "withput having to retype the entire code.\n",
    "'''"
   ]
  },
  {
   "cell_type": "code",
   "execution_count": null,
   "id": "fa4d0e5e",
   "metadata": {},
   "outputs": [],
   "source": [
    "#Question3\n",
    "'''\n",
    "One way to avoid circular imoorting is to merge the two modules on a single larger \n",
    "module. This approach is not preferred if the modules have a lot of code in them.\n",
    "\n",
    "Second approach would be to declare the import statement of one module inside the \n",
    "funtion of the other module so that it is called only when needed. This method is \n",
    "known as deffered importing.\n",
    "'''"
   ]
  },
  {
   "cell_type": "code",
   "execution_count": null,
   "id": "dc9b9250",
   "metadata": {},
   "outputs": [],
   "source": [
    "#Question4\n",
    "'''\n",
    "__all__ is a variable that can be set in the __init__.py file of a package.\n",
    "\n",
    "The __all__ variable is a list of strings which defines those symbols that are imported when a program does\n",
    "\n",
    "from package import * \n",
    "If the __all__ for this package was set as follows:\n",
    "\n",
    "__all__ = [‘echo’, ‘effect’, ‘reverb’] \n",
    "then\n",
    "\n",
    "from package import * \n",
    "would be equivalent to\n",
    "\n",
    "from package import echo \n",
    "from package import effect \n",
    "from package import reverb \n",
    "'''"
   ]
  },
  {
   "cell_type": "code",
   "execution_count": null,
   "id": "2cd98fe1",
   "metadata": {},
   "outputs": [],
   "source": [
    "#Question5\n",
    "'''\n",
    "We should refer to the __name__ variable when we want a specific module to be executed\n",
    "since __name__ is by default set to '__main__' when a program is running but as soon \n",
    "as we import a module inside another file the __name__ chnages to the name of the imported\n",
    "module.\n",
    "'''"
   ]
  },
  {
   "cell_type": "code",
   "execution_count": null,
   "id": "b7b377e8",
   "metadata": {},
   "outputs": [],
   "source": [
    "#Question6\n",
    "'''\n",
    "\n",
    "'''"
   ]
  },
  {
   "cell_type": "code",
   "execution_count": null,
   "id": "ebb558a5",
   "metadata": {},
   "outputs": [],
   "source": []
  },
  {
   "cell_type": "code",
   "execution_count": null,
   "id": "4c8d2386",
   "metadata": {},
   "outputs": [],
   "source": [
    "import "
   ]
  },
  {
   "cell_type": "code",
   "execution_count": null,
   "id": "439f6391",
   "metadata": {},
   "outputs": [],
   "source": []
  }
 ],
 "metadata": {
  "kernelspec": {
   "display_name": "Python 3 (ipykernel)",
   "language": "python",
   "name": "python3"
  },
  "language_info": {
   "codemirror_mode": {
    "name": "ipython",
    "version": 3
   },
   "file_extension": ".py",
   "mimetype": "text/x-python",
   "name": "python",
   "nbconvert_exporter": "python",
   "pygments_lexer": "ipython3",
   "version": "3.9.12"
  }
 },
 "nbformat": 4,
 "nbformat_minor": 5
}
