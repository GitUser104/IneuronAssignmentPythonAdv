{
 "cells": [
  {
   "cell_type": "code",
   "execution_count": null,
   "id": "bde79a40",
   "metadata": {},
   "outputs": [],
   "source": [
    "#Question2\n",
    "'''monkey patching is a technique using which we can assign an attribute defined inside \n",
    "a class to another attribute such that the funtionality of the call of funtion is changed \n",
    "in runtime and not otherwise. For ex:-\n",
    "class Test:\n",
    "    def __init__(self,x):\n",
    "        self.x = x\n",
    "    def get_data(self):\n",
    "        print('code to fetch data')\n",
    "    def f1(self):\n",
    "        self.get_data()\n",
    "    def f2(self):\n",
    "        self.get_data()\n",
    "\n",
    "def new_get_data(self):\n",
    "    print('new code to fetch data')\n",
    "\n",
    "\n",
    "\n",
    "obj = Test(5)\n",
    "-> obj.f1() # Gives the output as -> 'code to fetch data'\n",
    "-> obj.f2() # Gives the output as -> 'code to fetch data'\n",
    "\n",
    "Test.get_data = new_get_data #Assign the new_get_data to get_data function\n",
    "        \n",
    "-> obj.f1() # Gives the output as -> 'new code to fetch data'\n",
    "-> obj.f2() # Gives the output as -> 'new code to fetch data'\n",
    "'''"
   ]
  },
  {
   "cell_type": "code",
   "execution_count": null,
   "id": "7e564ea5",
   "metadata": {},
   "outputs": [],
   "source": [
    "#Question3\n",
    "'''A deep copy doesnt reflect the changes made to the copied object in the original\n",
    "object.Its is slower compared to shallow copy.\n",
    "Whereas a shallow copy reflect the changes made to the copied object in the original\n",
    "object. It is faster than a deep copy.'''"
   ]
  },
  {
   "cell_type": "code",
   "execution_count": null,
   "id": "94bd3329",
   "metadata": {},
   "outputs": [],
   "source": [
    "#Questiom4\n",
    "'''The maximum possible length of an identifier in python is 79 characters.'''"
   ]
  },
  {
   "cell_type": "code",
   "execution_count": null,
   "id": "3c70c518",
   "metadata": {},
   "outputs": [],
   "source": [
    "#Question5\n",
    "'''A generator comprehension is like a list comprehension but instead of finding all items \n",
    "it waits and yields each item out of expression one by one.\n",
    "It is essentially a lazy version of list comprehension and contains a single line of \n",
    "expression defining a generator in python.'''"
   ]
  },
  {
   "cell_type": "code",
   "execution_count": null,
   "id": "a0c4dff8",
   "metadata": {},
   "outputs": [],
   "source": [
    "#Question1 \n",
    "'''\n",
    "Following are the new features In Python 3.8:-\n",
    "-> Assignment Expressions\n",
    "-> Positional-Only Parameters\n",
    "-> Parallel Filesystem Cache\n",
    "-> Debug Build\n",
    "-> f-Strings Support\n",
    "-> Python Run-time Audit Hooks\n",
    "-> Python Initialization Configuration\n",
    "-> Vectorcall\n",
    "-> Pickle Protocol 5'''"
   ]
  },
  {
   "cell_type": "code",
   "execution_count": null,
   "id": "9009949c",
   "metadata": {},
   "outputs": [],
   "source": []
  },
  {
   "cell_type": "code",
   "execution_count": null,
   "id": "051d5476",
   "metadata": {},
   "outputs": [],
   "source": []
  },
  {
   "cell_type": "code",
   "execution_count": null,
   "id": "d61f0367",
   "metadata": {},
   "outputs": [],
   "source": []
  },
  {
   "cell_type": "code",
   "execution_count": null,
   "id": "1ed5e1ba",
   "metadata": {},
   "outputs": [],
   "source": []
  },
  {
   "cell_type": "code",
   "execution_count": null,
   "id": "6b6c39ef",
   "metadata": {},
   "outputs": [],
   "source": []
  },
  {
   "cell_type": "code",
   "execution_count": null,
   "id": "6c8c5f43",
   "metadata": {},
   "outputs": [],
   "source": []
  }
 ],
 "metadata": {
  "kernelspec": {
   "display_name": "Python 3 (ipykernel)",
   "language": "python",
   "name": "python3"
  },
  "language_info": {
   "codemirror_mode": {
    "name": "ipython",
    "version": 3
   },
   "file_extension": ".py",
   "mimetype": "text/x-python",
   "name": "python",
   "nbconvert_exporter": "python",
   "pygments_lexer": "ipython3",
   "version": "3.9.12"
  }
 },
 "nbformat": 4,
 "nbformat_minor": 5
}
