{
 "cells": [
  {
   "cell_type": "code",
   "execution_count": null,
   "id": "b1acd38f",
   "metadata": {},
   "outputs": [],
   "source": [
    "#Question1\n",
    "'''The purpose of oops is to establish  a convnient binding between data and functions using concepts and classes, \n",
    "this increases ther usability of the code and increases effieciency.Since classes can be shared we can define many functions\n",
    "inside a class and this improves readability.'''"
   ]
  },
  {
   "cell_type": "code",
   "execution_count": null,
   "id": "d9585481",
   "metadata": {},
   "outputs": [],
   "source": [
    "#Question2\n",
    "'''The program first looks for an instance in the instance object then in the class where instance was created and then \n",
    "in all higher superclasses , the search halts when first encountered with the attribute'''"
   ]
  },
  {
   "cell_type": "code",
   "execution_count": null,
   "id": "d8598d87",
   "metadata": {},
   "outputs": [],
   "source": [
    "#Question3\n",
    "'''A class object does not change property in every instance and does not need to be defined all the time whereas instance\n",
    "object needs to be defined for everytime. The class object is available all the time throughout the class. The instance\n",
    "object needs to be defined every time you call the function.'''"
   ]
  },
  {
   "cell_type": "code",
   "execution_count": null,
   "id": "54f90133",
   "metadata": {},
   "outputs": [],
   "source": [
    "#Question4\n",
    "'''It always receives the instance object that is the implied subject of the method call.It’s usually called 'self' by \n",
    "convention.'''"
   ]
  },
  {
   "cell_type": "code",
   "execution_count": null,
   "id": "a9999b4b",
   "metadata": {},
   "outputs": [],
   "source": [
    "#Question5\n",
    "'''The main purpose of __init__() method is to initialize the attributes of the class'''"
   ]
  },
  {
   "cell_type": "code",
   "execution_count": null,
   "id": "241c633c",
   "metadata": {},
   "outputs": [],
   "source": [
    "#Question6\n",
    "'''To create a class -> class classname():'''"
   ]
  },
  {
   "cell_type": "code",
   "execution_count": null,
   "id": "2fdf92bb",
   "metadata": {},
   "outputs": [],
   "source": [
    "#Question7\n",
    "'''To create a class instance x = classname(), by simply calling the class as if it were a function and passing the arguments\n",
    "in its __init__ method.'''"
   ]
  },
  {
   "cell_type": "code",
   "execution_count": null,
   "id": "097ce263",
   "metadata": {},
   "outputs": [],
   "source": [
    "#Question8\n",
    "'''The superclass of a class is the parent class that is used to inherit nature of the class we want to create or define, \n",
    "for example - class Test1(Test):, <- here Test is a superclass.'''"
   ]
  }
 ],
 "metadata": {
  "kernelspec": {
   "display_name": "Python 3 (ipykernel)",
   "language": "python",
   "name": "python3"
  },
  "language_info": {
   "codemirror_mode": {
    "name": "ipython",
    "version": 3
   },
   "file_extension": ".py",
   "mimetype": "text/x-python",
   "name": "python",
   "nbconvert_exporter": "python",
   "pygments_lexer": "ipython3",
   "version": "3.9.12"
  }
 },
 "nbformat": 4,
 "nbformat_minor": 5
}
