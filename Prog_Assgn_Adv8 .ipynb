{
 "cells": [
  {
   "cell_type": "code",
   "execution_count": null,
   "id": "1105e2e8",
   "metadata": {},
   "outputs": [],
   "source": [
    "#Question2\n",
    "'''Whenever an exception in try block occur it stops the execution of the program \n",
    "and skips to the corresponding except block where we can either raise our own custom \n",
    "exception or call a superclass or subclass of excpetion for output.'''"
   ]
  },
  {
   "cell_type": "code",
   "execution_count": null,
   "id": "602db3ea",
   "metadata": {},
   "outputs": [],
   "source": [
    "#Question3\n",
    "'''We can either write a custom message inside except block using a print() function \n",
    "Second we can put a condition and use the raise keyword to print the context info of error.'''"
   ]
  },
  {
   "cell_type": "code",
   "execution_count": null,
   "id": "3a4c7450",
   "metadata": {},
   "outputs": [],
   "source": [
    "#Question4\n",
    "'''First way is to use the print() function inside except block to specify the exception \n",
    "and second is to use the raise keyword to capture the error.'''"
   ]
  },
  {
   "cell_type": "code",
   "execution_count": null,
   "id": "54f093b3",
   "metadata": {},
   "outputs": [],
   "source": [
    "#Question5\n",
    "'''Earlier we had to convert the exception to strinf format using str() or repr()\n",
    "function to display the error to the user now the except block does the same itself.'''"
   ]
  },
  {
   "cell_type": "code",
   "execution_count": null,
   "id": "e66ef3f5",
   "metadata": {},
   "outputs": [],
   "source": []
  }
 ],
 "metadata": {
  "kernelspec": {
   "display_name": "Python 3 (ipykernel)",
   "language": "python",
   "name": "python3"
  },
  "language_info": {
   "codemirror_mode": {
    "name": "ipython",
    "version": 3
   },
   "file_extension": ".py",
   "mimetype": "text/x-python",
   "name": "python",
   "nbconvert_exporter": "python",
   "pygments_lexer": "ipython3",
   "version": "3.9.12"
  }
 },
 "nbformat": 4,
 "nbformat_minor": 5
}
