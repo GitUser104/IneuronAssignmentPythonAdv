{
 "cells": [
  {
   "cell_type": "code",
   "execution_count": null,
   "id": "25618459",
   "metadata": {},
   "outputs": [],
   "source": [
    "#Question1\n",
    "'''We need to overload the __iter__ and __next__ method to support iteration where\n",
    "__iter__ returns the iterator object and __next__ returns the next value in the loop.'''"
   ]
  },
  {
   "cell_type": "code",
   "execution_count": null,
   "id": "38d26c5f",
   "metadata": {},
   "outputs": [],
   "source": [
    "#Question2\n",
    "'''In python an object, it first calls that objects __str__ method to convert it to a string.\n",
    "It then displays that string in the console window.However, if the object created is not a valid \n",
    "string we can overload __str__ method to print the output.'''"
   ]
  },
  {
   "cell_type": "code",
   "execution_count": null,
   "id": "bcb80070",
   "metadata": {},
   "outputs": [],
   "source": [
    "#Question3\n",
    "'''We can use the __getitem__ method to intercpt slice operations in a class. We can override this method and define \n",
    "the behaviour of the slice function.'''"
   ]
  },
  {
   "cell_type": "code",
   "execution_count": null,
   "id": "e1cd144c",
   "metadata": {},
   "outputs": [],
   "source": [
    "#Question4\n",
    "'''We can use the iadd() method to capture inplace addition, in inplace adddition first addition takes place and\n",
    "then the variable is assigned the resulting value simultaneuosly.\n",
    "'''"
   ]
  },
  {
   "cell_type": "code",
   "execution_count": null,
   "id": "de80569c",
   "metadata": {},
   "outputs": [],
   "source": [
    "#Question5\n",
    "'''We should use operator overloading when we want to perform different task using the same operator to make \n",
    "things convenient. For ex:- we can overload the \"+\" operator using the __add__ method such that it can be sued to add \n",
    "two values as well as concatenate two strings. Doing this our coding simplicity increases.'''"
   ]
  },
  {
   "cell_type": "code",
   "execution_count": 6,
   "id": "dca63501",
   "metadata": {},
   "outputs": [
    {
     "name": "stdout",
     "output_type": "stream",
     "text": [
      "\f",
      "\n"
     ]
    }
   ],
   "source": []
  }
 ],
 "metadata": {
  "kernelspec": {
   "display_name": "Python 3 (ipykernel)",
   "language": "python",
   "name": "python3"
  },
  "language_info": {
   "codemirror_mode": {
    "name": "ipython",
    "version": 3
   },
   "file_extension": ".py",
   "mimetype": "text/x-python",
   "name": "python",
   "nbconvert_exporter": "python",
   "pygments_lexer": "ipython3",
   "version": "3.9.12"
  }
 },
 "nbformat": 4,
 "nbformat_minor": 5
}
