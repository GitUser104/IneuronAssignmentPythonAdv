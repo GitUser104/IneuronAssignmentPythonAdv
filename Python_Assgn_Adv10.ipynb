{
 "cells": [
  {
   "cell_type": "code",
   "execution_count": null,
   "id": "02541aba",
   "metadata": {},
   "outputs": [],
   "source": [
    "#WQuestion1\n",
    "'''When we define the __getattr__ funtion inside a class we get the output defined \n",
    "in the __getattr__ function when an atttribute which is not defined in the class is called \n",
    "i.e. if the program cannot find the attribute \n",
    "Whereas __getattribute__ function gets called everytime regardless of the fact if the attribute is \n",
    "defined or not. \n",
    "Inshort the __getattr__ has lowest prioriy whereas __getattribute__ has highest priority.'''"
   ]
  },
  {
   "cell_type": "code",
   "execution_count": null,
   "id": "e47dde23",
   "metadata": {},
   "outputs": [],
   "source": [
    "#Question2\n",
    "'''Property is a decorator that we use in python such that we can create a function which can be called \n",
    "as an attribute of the object creatde for the class. Yhis helps us to cahnge the value of the obejct intialized\n",
    "at the starting using __init__ constructor, also we do not have to call the fucntion having a property decorator \n",
    "as a funtion call rather it can be treated as an attribute of the class. \n",
    "Descriptor are the funtions which need to be explicity defined by the user they are inbuilt methods which can help \n",
    "us to set a value and get the value they are invoked everytime we call an attribute and are helpful when there is no \n",
    "such attribute as they create one for the same.'''"
   ]
  },
  {
   "cell_type": "code",
   "execution_count": null,
   "id": "2a7a81d4",
   "metadata": {},
   "outputs": [],
   "source": [
    "#Question3\n",
    "'''The key difference between __getattr__ and __getattribute__ is that __getattr__ gets called when the attribute\n",
    "is not found in the class whereas __getattribute__ is called regardless.\n",
    "`'''"
   ]
  },
  {
   "cell_type": "code",
   "execution_count": null,
   "id": "a57d22ea",
   "metadata": {},
   "outputs": [],
   "source": []
  },
  {
   "cell_type": "code",
   "execution_count": null,
   "id": "603af4a9",
   "metadata": {},
   "outputs": [],
   "source": []
  },
  {
   "cell_type": "code",
   "execution_count": null,
   "id": "f8549588",
   "metadata": {},
   "outputs": [],
   "source": []
  }
 ],
 "metadata": {
  "kernelspec": {
   "display_name": "Python 3 (ipykernel)",
   "language": "python",
   "name": "python3"
  },
  "language_info": {
   "codemirror_mode": {
    "name": "ipython",
    "version": 3
   },
   "file_extension": ".py",
   "mimetype": "text/x-python",
   "name": "python",
   "nbconvert_exporter": "python",
   "pygments_lexer": "ipython3",
   "version": "3.9.12"
  }
 },
 "nbformat": 4,
 "nbformat_minor": 5
}
