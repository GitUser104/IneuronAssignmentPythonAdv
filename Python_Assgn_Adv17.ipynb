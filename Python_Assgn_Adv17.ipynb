{
 "cells": [
  {
   "cell_type": "code",
   "execution_count": 4,
   "id": "7ff92727",
   "metadata": {},
   "outputs": [
    {
     "data": {
      "text/plain": [
       "['', 'a', '', 'a', '', 'a', '', 'a', '']"
      ]
     },
     "execution_count": 4,
     "metadata": {},
     "output_type": "execute_result"
    }
   ],
   "source": [
    "#Question1\n",
    "'''\n",
    "Consider a the following :-\n",
    "'''\n",
    "import re\n",
    "#Using a normal quantifier(greedy by default)\n",
    "re.findall('a*','aaaa')\n",
    "'''->O/P-> ['aaaa', '']'''\n",
    "\n",
    "#Using a lazy approach\n",
    "re.findall('a*?','aaaa')\n",
    "'''->O/P-> ['', 'a', '', 'a', '', 'a', '', 'a', '']'''\n",
    "\n",
    "'''\n",
    "From above example we can clearly see that the greedy expression tries to match\n",
    "as much pattern as possible in a single go.\n",
    "Whereas the lazy approach matches the minimum after every step.\n",
    "\n",
    "To convert a greedy pattern to non-greedy one we can use the '?' special character\n",
    "after the metacharacter in our pattern definition.\n",
    "\n",
    "'''\n",
    "\n",
    "\n",
    "\n"
   ]
  },
  {
   "cell_type": "code",
   "execution_count": null,
   "id": "f6ca22d6",
   "metadata": {},
   "outputs": [],
   "source": [
    "#Question2\n",
    "'''Non-greedy expression is used when we need to get expressions to deliver case \n",
    "specific results since greedy will always try and give the maximum occurences for \n",
    "a given metacharacter.\n",
    "When we want to look for a non-greedy match but the same is not available we can \n",
    "use the combination of various metacharacters to fethc the results.\n",
    "\n",
    "'''"
   ]
  },
  {
   "cell_type": "code",
   "execution_count": null,
   "id": "409d9998",
   "metadata": {},
   "outputs": [],
   "source": [
    "#Question3\n",
    "'''We use the concept of capturing groups to give a specific name of our choice to \n",
    "ease the use of our results which helps us to find the pattern. We may avoid using \n",
    "\n",
    "'''"
   ]
  },
  {
   "cell_type": "code",
   "execution_count": null,
   "id": "a0ba778f",
   "metadata": {},
   "outputs": [],
   "source": []
  },
  {
   "cell_type": "code",
   "execution_count": null,
   "id": "4051fd8f",
   "metadata": {},
   "outputs": [],
   "source": []
  }
 ],
 "metadata": {
  "kernelspec": {
   "display_name": "Python 3 (ipykernel)",
   "language": "python",
   "name": "python3"
  },
  "language_info": {
   "codemirror_mode": {
    "name": "ipython",
    "version": 3
   },
   "file_extension": ".py",
   "mimetype": "text/x-python",
   "name": "python",
   "nbconvert_exporter": "python",
   "pygments_lexer": "ipython3",
   "version": "3.9.12"
  }
 },
 "nbformat": 4,
 "nbformat_minor": 5
}
