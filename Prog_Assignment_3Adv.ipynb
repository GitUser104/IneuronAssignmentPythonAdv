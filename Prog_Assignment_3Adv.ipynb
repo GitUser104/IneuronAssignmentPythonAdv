{
 "cells": [
  {
   "cell_type": "code",
   "execution_count": null,
   "id": "4905ac7e",
   "metadata": {},
   "outputs": [],
   "source": [
    "#Question1\n",
    "'''An abstract class which serves as a basis for many subclasses is called an abstract superclass. It simply means that the \n",
    "subclasses created using this class should implement the inherited methods defined in the superclass.'''"
   ]
  },
  {
   "cell_type": "code",
   "execution_count": null,
   "id": "d41fabaa",
   "metadata": {},
   "outputs": [],
   "source": [
    "#Question2\n",
    "'''When a simple assignment statement is used as top level statement while defining a class it serves as a class variable i.e.\n",
    "the scope of that variable is throughout the class.'''"
   ]
  },
  {
   "cell_type": "code",
   "execution_count": null,
   "id": "3d58eb1b",
   "metadata": {},
   "outputs": [],
   "source": [
    "#Question3\n",
    "'''In case of inheritance we are restricted to use the variable of the child class\n",
    "whereas we would want to use all the properties of the parent class or superclass i.e.\n",
    "both methods and variables thus to shaare the variables of superclass we need to explicitly call \n",
    "__init__ method.'''"
   ]
  },
  {
   "cell_type": "code",
   "execution_count": null,
   "id": "9bc1dab5",
   "metadata": {},
   "outputs": [],
   "source": [
    "#Question4\n",
    "'''We can create a child class and define a new method in this child class having the \n",
    "same name as the method in the oarent class, this will invoke the fucntion in child class \n",
    "when we create an object of this child class , this is known as method oeverriding.'''"
   ]
  },
  {
   "cell_type": "code",
   "execution_count": null,
   "id": "b32fd213",
   "metadata": {},
   "outputs": [],
   "source": [
    "#Question5\n",
    "'''The local scope of a funtion is the scope of variable in function inside a class whereas local scope of class means that the \n",
    "variable is available throughout the class.'''\n"
   ]
  },
  {
   "cell_type": "code",
   "execution_count": null,
   "id": "a191d9db",
   "metadata": {},
   "outputs": [],
   "source": [
    "#Question5\n"
   ]
  },
  {
   "cell_type": "code",
   "execution_count": null,
   "id": "e801b991",
   "metadata": {},
   "outputs": [],
   "source": []
  }
 ],
 "metadata": {
  "kernelspec": {
   "display_name": "Python 3 (ipykernel)",
   "language": "python",
   "name": "python3"
  },
  "language_info": {
   "codemirror_mode": {
    "name": "ipython",
    "version": 3
   },
   "file_extension": ".py",
   "mimetype": "text/x-python",
   "name": "python",
   "nbconvert_exporter": "python",
   "pygments_lexer": "ipython3",
   "version": "3.9.12"
  }
 },
 "nbformat": 4,
 "nbformat_minor": 5
}
