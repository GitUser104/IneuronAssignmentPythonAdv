{
 "cells": [
  {
   "cell_type": "code",
   "execution_count": null,
   "id": "56b28c39",
   "metadata": {},
   "outputs": [],
   "source": [
    "#Question1\n",
    "'''Regular expressions are useful for search and replace operations. They are mostlyused \n",
    "to look for a particular substring or that matches a pattern and replace or modify it.'''"
   ]
  },
  {
   "cell_type": "code",
   "execution_count": null,
   "id": "10d9e326",
   "metadata": {},
   "outputs": [],
   "source": [
    "#Question2\n",
    "'''The result ouput of the a(bc)+ will give us a pattern which start with a and then has 1 \n",
    "or more number of bc as in -> abcbcbcbc....... where bc should atleast be 1.\n",
    "The resultant putput of the (ab)c+ will give us a pattern which starts with ab and will have \n",
    "atleast 1 c as in -> abccccc.... where c should atleast be 1.\n",
    "The pattern of (ab)c+ will produce similar results to abc+.\n",
    "'''"
   ]
  },
  {
   "cell_type": "code",
   "execution_count": null,
   "id": "7a9e8516",
   "metadata": {},
   "outputs": [],
   "source": [
    "#Question3\n",
    "'''\n",
    "Regular expression is by deafult installed in pyhton internal packakges while setup so\n",
    "we only need to call the statement import re once to import that module for use.\n",
    "'''"
   ]
  },
  {
   "cell_type": "code",
   "execution_count": null,
   "id": "b7696c44",
   "metadata": {},
   "outputs": [],
   "source": [
    "#Question4\n",
    "'''The characters '.',':','=' have special meaning inside a bracket expression and are used\n",
    "to collating symbols, equivalence class expressions, and character class expressions.\n",
    "'''"
   ]
  },
  {
   "cell_type": "code",
   "execution_count": null,
   "id": "a4908ddc",
   "metadata": {},
   "outputs": [],
   "source": [
    "#Question5\n",
    "'''Compiling a regular expression helps us to create a regex object which can later be used\n",
    "to look for ocuurences of same pattern inside various target strings without rewriting it.'''"
   ]
  },
  {
   "cell_type": "code",
   "execution_count": null,
   "id": "3468416d",
   "metadata": {},
   "outputs": [],
   "source": [
    "#Question6\n",
    "'''Lets suppose we wish to search for a string in a sentenes which needs to be replaced ,we \n",
    "can easily apply the re.match and re.search funtions to find the string and replace or erase it.\n",
    "for ex:- Consider the string 'This is ineuron. They teach good.'\n",
    "then , \n",
    "'''"
   ]
  },
  {
   "cell_type": "code",
   "execution_count": null,
   "id": "cfa139b4",
   "metadata": {},
   "outputs": [],
   "source": [
    "#Question7\n",
    "'''Using a vertrical bar with a character set results will result in a either or situation i.e.\n",
    "the search or match funtion will return the specific pattern usrr asks for.\n",
    "When we use square brackets it is generlly used to define a range of values or pattern thus it \n",
    "will return all the matches that fall in this range.'''"
   ]
  },
  {
   "cell_type": "code",
   "execution_count": null,
   "id": "ae56c6ba",
   "metadata": {},
   "outputs": [],
   "source": [
    "#Question8\n",
    "'''A raw string interprets the backlash characters as literal character and avoids the error while \n",
    "pattern mathching in a string.For ex :- when we use \\n it print a new line but when used with r'\\n'\n",
    "it literally prints the \\n as a character thus it helps us to use special sequence charcaters.\n",
    "'''"
   ]
  },
  {
   "cell_type": "code",
   "execution_count": null,
   "id": "9cd0b0f9",
   "metadata": {},
   "outputs": [],
   "source": []
  }
 ],
 "metadata": {
  "kernelspec": {
   "display_name": "Python 3 (ipykernel)",
   "language": "python",
   "name": "python3"
  },
  "language_info": {
   "codemirror_mode": {
    "name": "ipython",
    "version": 3
   },
   "file_extension": ".py",
   "mimetype": "text/x-python",
   "name": "python",
   "nbconvert_exporter": "python",
   "pygments_lexer": "ipython3",
   "version": "3.9.12"
  }
 },
 "nbformat": 4,
 "nbformat_minor": 5
}
