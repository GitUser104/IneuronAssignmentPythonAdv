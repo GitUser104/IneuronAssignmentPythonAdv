{
 "cells": [
  {
   "cell_type": "code",
   "execution_count": null,
   "id": "8478988e",
   "metadata": {},
   "outputs": [],
   "source": [
    "#Question1\n",
    "'''\n",
    "\n",
    "'''"
   ]
  },
  {
   "cell_type": "code",
   "execution_count": null,
   "id": "fed5513d",
   "metadata": {},
   "outputs": [],
   "source": [
    "#Question3\n",
    "'''\n",
    "Array module helps us to create light arrays for example 1-D arrays. They are also \n",
    "obsolete in nature i.e. we can only store one type of variables in them. There is\n",
    "no support for complex matrix caluculations.\n",
    "Numpy is much more powerful than normal arrays. We can create higher dimension arrays\n",
    "easily. We can also store different datatypes in a single array. It has a lot of \n",
    "functions which help us to do matrix based calculations efficiently.\n",
    "'''"
   ]
  },
  {
   "cell_type": "code",
   "execution_count": null,
   "id": "fc4d7ab1",
   "metadata": {},
   "outputs": [],
   "source": [
    "#Question4\n",
    "'''\n",
    "An empty array initializes an array of given dimension having the elements in the array\n",
    "as userdefined datatype. The elements are random numbers and are extremely small but not\n",
    "exactly zero if not defined by the user.\n",
    "\n",
    "A ones array intitializes an array of user defined dimension but here all the elements \n",
    "in the array/matrix have a value 1.\n",
    "\n",
    "A zeros array does the same as ones array but here all the elements in the array/matrix \n",
    "are initialized with a value 0.\n",
    "'''"
   ]
  },
  {
   "cell_type": "code",
   "execution_count": null,
   "id": "8d852e09",
   "metadata": {},
   "outputs": [],
   "source": [
    "#Question5\n",
    "'''\n",
    "The callable argument is the function argument in numpy.fromfunction() function it helps\n",
    "us to define a logic based on which the elements of the matrix or array are populated. \n",
    "'''"
   ]
  },
  {
   "cell_type": "code",
   "execution_count": null,
   "id": "3aa09c42",
   "metadata": {},
   "outputs": [],
   "source": [
    "#Question6\n",
    "'''\n",
    "When we add a scalar to an array or matrix the scalar value simply gets added to each element \n",
    "in the array. Thus if arr([1,2],[3,4])+n => arr([1+n,2+n],[3+n,4+n]).\n",
    "'''"
   ]
  },
  {
   "cell_type": "code",
   "execution_count": null,
   "id": "86bf4fcc",
   "metadata": {},
   "outputs": [],
   "source": [
    "#Question7\n",
    "'''\n",
    "Yes we can use array to scalar combined operation assign operators the outcome is same as the \n",
    "normal scalar addition to an array. This results in a inplace addition or muliplication and the \n",
    "original array gets replaced by the new array value.\n",
    "'''"
   ]
  },
  {
   "cell_type": "code",
   "execution_count": null,
   "id": "4a39fbef",
   "metadata": {},
   "outputs": [],
   "source": [
    "#Question8\n",
    "'''\n",
    "Once we create a numpy array with a fixed length, if we try and add a new string of greater length \n",
    "than the assigned length it will reject the part of the string greater than the length alloted to \n",
    "the elements of the array.\n",
    "'''"
   ]
  },
  {
   "cell_type": "code",
   "execution_count": null,
   "id": "7595ee5a",
   "metadata": {},
   "outputs": [],
   "source": [
    "#Question9\n",
    "'''\n",
    "When we use addition or multiplication operator on two arrays it gives us element wise\n",
    "addition and multiplication respectively. To multiply two arrays as a cross product we \n",
    "use the funtion numpy.matmul(array1,array2).\n",
    "\n",
    "'''"
   ]
  },
  {
   "cell_type": "code",
   "execution_count": 52,
   "id": "a9b75f44",
   "metadata": {},
   "outputs": [
    {
     "name": "stdout",
     "output_type": "stream",
     "text": [
      "[[9.4 9.4]\n",
      " [9.4 9.4]]\n"
     ]
    }
   ],
   "source": [
    "import numpy as np\n",
    "\n",
    "arr1 = np.empty([2,2]) + 9.4\n",
    "arr2 = np.zeros([2,2])\n",
    "arr3 = np.ones([2,2])\n",
    "\n",
    "print(arr1)\n",
    "#print(arr2)\n",
    "#print(arr3)"
   ]
  },
  {
   "cell_type": "code",
   "execution_count": 70,
   "id": "5b5396f1",
   "metadata": {},
   "outputs": [
    {
     "name": "stdout",
     "output_type": "stream",
     "text": [
      "[[3 8]\n",
      " [8 3]]\n",
      "[[4 6]\n",
      " [6 4]]\n"
     ]
    }
   ],
   "source": [
    "arr1 = np.array([[1,2],[2,1]])\n",
    "arr2 = np.array([[3,4],[4,3]])\n",
    "\n",
    "arrf = \n",
    "print(arrf)\n",
    "\n",
    "arrf1 = arr1 + arr2 \n",
    "print(arrf1)"
   ]
  },
  {
   "cell_type": "code",
   "execution_count": 41,
   "id": "05900ac4",
   "metadata": {},
   "outputs": [
    {
     "name": "stdout",
     "output_type": "stream",
     "text": [
      "[[0.00000000e+000 0.00000000e+000 0.00000000e+000]\n",
      " [0.00000000e+000 0.00000000e+000 8.30030285e-321]\n",
      " [1.24610723e-306 1.29061142e-306 5.53353523e-322]]\n"
     ]
    }
   ],
   "source": []
  },
  {
   "cell_type": "code",
   "execution_count": null,
   "id": "9cc75819",
   "metadata": {},
   "outputs": [],
   "source": []
  },
  {
   "cell_type": "code",
   "execution_count": 3,
   "id": "4917b78f",
   "metadata": {},
   "outputs": [
    {
     "ename": "TypeError",
     "evalue": "'module' object is not callable",
     "output_type": "error",
     "traceback": [
      "\u001b[1;31m---------------------------------------------------------------------------\u001b[0m",
      "\u001b[1;31mTypeError\u001b[0m                                 Traceback (most recent call last)",
      "Input \u001b[1;32mIn [3]\u001b[0m, in \u001b[0;36m<cell line: 3>\u001b[1;34m()\u001b[0m\n\u001b[0;32m      1\u001b[0m \u001b[38;5;28;01mimport\u001b[39;00m \u001b[38;5;21;01marray\u001b[39;00m \n\u001b[1;32m----> 3\u001b[0m l \u001b[38;5;241m=\u001b[39m \u001b[43marray\u001b[49m\u001b[43m(\u001b[49m\u001b[38;5;241;43m1\u001b[39;49m\u001b[43m,\u001b[49m\u001b[38;5;241;43m2\u001b[39;49m\u001b[43m,\u001b[49m\u001b[38;5;241;43m4\u001b[39;49m\u001b[43m,\u001b[49m\u001b[38;5;241;43m4\u001b[39;49m\u001b[43m,\u001b[49m\u001b[38;5;241;43m5\u001b[39;49m\u001b[43m)\u001b[49m\n",
      "\u001b[1;31mTypeError\u001b[0m: 'module' object is not callable"
     ]
    }
   ],
   "source": [
    "import array \n",
    "\n",
    "l = arr"
   ]
  }
 ],
 "metadata": {
  "kernelspec": {
   "display_name": "Python 3 (ipykernel)",
   "language": "python",
   "name": "python3"
  },
  "language_info": {
   "codemirror_mode": {
    "name": "ipython",
    "version": 3
   },
   "file_extension": ".py",
   "mimetype": "text/x-python",
   "name": "python",
   "nbconvert_exporter": "python",
   "pygments_lexer": "ipython3",
   "version": "3.9.12"
  }
 },
 "nbformat": 4,
 "nbformat_minor": 5
}
