{
 "cells": [
  {
   "cell_type": "code",
   "execution_count": null,
   "id": "fe499535",
   "metadata": {},
   "outputs": [],
   "source": [
    "#Question1\n",
    "'''\n",
    "I would either go for a line chart or a combination chart to study more than one features \n",
    "on the same graph.\n",
    "'''"
   ]
  },
  {
   "cell_type": "code",
   "execution_count": null,
   "id": "b939761f",
   "metadata": {},
   "outputs": [],
   "source": [
    "#Question2\n",
    "'''\n",
    "\n",
    "'''"
   ]
  },
  {
   "cell_type": "code",
   "execution_count": null,
   "id": "5ec7f781",
   "metadata": {},
   "outputs": [],
   "source": [
    "#Question3\n",
    "'''\n",
    "A histogram is the distribution of frequency of over intervals of time.\n",
    "We can use the numpy.histogram() method to create a histogram which has several \n",
    "parameters so that we can easily create a detailed graph.\n",
    "'''"
   ]
  },
  {
   "cell_type": "code",
   "execution_count": null,
   "id": "42c72736",
   "metadata": {},
   "outputs": [],
   "source": [
    "#Question4\n",
    "'''\n",
    "We have different methods for different visualization librarie for changing the \n",
    "aspect ratio of xx and y axes. Some common librabries such as matplotlib have the \n",
    "set_aspect() funtion and another way would be use the figsize keyword while defining \n",
    "the plot function.\n",
    "Similarly we can use the figsize keyword while defining the plot using the seaborn \n",
    "and adjust the aspect ratio of the plot.\n",
    "'''"
   ]
  },
  {
   "cell_type": "code",
   "execution_count": null,
   "id": "5c6f2bf2",
   "metadata": {},
   "outputs": [],
   "source": [
    "#Question5\n",
    "'''\n",
    "The three type of multiplication in numoy arrays i.e. cross , dot and element wise \n",
    "multiplication.\n",
    "\n",
    "The dot product is calculated using the numpy.dot() method.\n",
    "The cross product is calculated jusing the numpy.matmul() method.\n",
    "The elementwise multiplication is done using the numpy.multiply() method.\n",
    "\n",
    "The dot product return a scalar value for 1-D array but behaves the same as cross product\n",
    "for higher values.\n",
    "The cross product always returns us an array.\n",
    "The element wise product simply multiplies the first element to first , second to second, \n",
    "third to third and so on and returns an array/matrix.\n",
    "\n",
    "'''"
   ]
  },
  {
   "cell_type": "code",
   "execution_count": null,
   "id": "86eb8941",
   "metadata": {},
   "outputs": [],
   "source": [
    "#Question6\n",
    "'''\n",
    "In order to calculate the mortgage we can use the numpy.pmt() function which takes the \n",
    "following parameters :-\n",
    "\n",
    "rate = The periodic (monthly) interest rate.\n",
    "nper = The number of payment periods (months) in the lifespan of the mortgage loan.\n",
    "pv = The total value of the mortgage loan.\n",
    "'''"
   ]
  },
  {
   "cell_type": "code",
   "execution_count": null,
   "id": "ba7c6bdd",
   "metadata": {},
   "outputs": [],
   "source": [
    "#Question7\n",
    "'''\n",
    "Yes we can store string type of data in the numpy array.\n",
    "The biggest limitation is that once initialized the array sets a limit on the length of the \n",
    "string elements that can be stored inside an array, thus when we try and modify or add an element \n",
    "which is greater than the length defined by the array it results in loss of data.\n",
    "'''"
   ]
  }
 ],
 "metadata": {
  "kernelspec": {
   "display_name": "Python 3 (ipykernel)",
   "language": "python",
   "name": "python3"
  },
  "language_info": {
   "codemirror_mode": {
    "name": "ipython",
    "version": 3
   },
   "file_extension": ".py",
   "mimetype": "text/x-python",
   "name": "python",
   "nbconvert_exporter": "python",
   "pygments_lexer": "ipython3",
   "version": "3.9.12"
  }
 },
 "nbformat": 4,
 "nbformat_minor": 5
}
