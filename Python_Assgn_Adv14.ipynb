{
 "cells": [
  {
   "cell_type": "code",
   "execution_count": null,
   "id": "07104836",
   "metadata": {},
   "outputs": [],
   "source": [
    "#Question1\n",
    "'''There is a very marginal difference between the inplace operator and + operator thus using \n",
    "any of these will result in almost same execution time.Thus, we can say it would not lead to a \n",
    "faster result time in runtime.'''"
   ]
  },
  {
   "cell_type": "code",
   "execution_count": null,
   "id": "63892304",
   "metadata": {},
   "outputs": [],
   "source": [
    "#Question2\n",
    "'''In every programming language except pyhton we will have to write atleast 3 lines of \n",
    "statement to swap two values.'''"
   ]
  },
  {
   "cell_type": "code",
   "execution_count": null,
   "id": "0553be15",
   "metadata": {},
   "outputs": [],
   "source": [
    "#Question3\n",
    "'''For a given list of 100 integers we can use a for loop and use the index value of the \n",
    "elements to assign the values to 0'''"
   ]
  },
  {
   "cell_type": "code",
   "execution_count": null,
   "id": "f829b9ff",
   "metadata": {},
   "outputs": [],
   "source": [
    "#Question4\n"
   ]
  },
  {
   "cell_type": "code",
   "execution_count": null,
   "id": "641caac2",
   "metadata": {},
   "outputs": [],
   "source": [
    "#Question6\n",
    "'''We can convert a list to a string using list comprehension using the .join() funtion. For ex:-\n",
    "lst = ['i','n','e','u','r','o','n']\n",
    "result = ''.join(f'{i}'for i in lst)\n",
    "print(result)\n",
    "this provides us with the output as -> 'ineuron'\n",
    "'''\n"
   ]
  },
  {
   "cell_type": "code",
   "execution_count": null,
   "id": "13926ea8",
   "metadata": {},
   "outputs": [],
   "source": [
    "#Question7\n",
    "'''We can use the help keyword at command line prompt to get help with any user written program.\n",
    "Yes we can directly call the help() method from inside the IDLE and passing the custom class or \n",
    "funtion inside as a parameter.'''"
   ]
  },
  {
   "cell_type": "code",
   "execution_count": null,
   "id": "70d0e555",
   "metadata": {},
   "outputs": [],
   "source": [
    "#Question8\n",
    "'''Python function do not have restrictions on type of argument and it return type whereas C++\n",
    "the function can only accept and return the type of value which is already defined.'''\n"
   ]
  },
  {
   "cell_type": "code",
   "execution_count": 26,
   "id": "de1cafb5",
   "metadata": {},
   "outputs": [
    {
     "name": "stdout",
     "output_type": "stream",
     "text": [
      "ineuron\n"
     ]
    }
   ],
   "source": [
    "#Question9\n",
    "'''A wrapper is the funtion which we want to execute in addition to the base funtion we have\n",
    "defined. \n",
    "A function that contains this wrapper function is called a decorator. \n",
    "A wrapped feature is the base function or attribute which is enclosed within a wrapper.\n",
    "The decorator adds some functionality to already present function and returns the value.\n",
    "The function responsibe for adding this nw funtionality is called the wrapper funtion.\n",
    "The base funtion upon which this new funtionality is added is called the warpped feature.'''"
   ]
  },
  {
   "cell_type": "code",
   "execution_count": null,
   "id": "92a43acd",
   "metadata": {},
   "outputs": [],
   "source": [
    "#Question10\n",
    "'''If a funtion is a generator function it returns a iterator that can produce a sequence of\n",
    "values when iterated over.\n",
    "'''"
   ]
  },
  {
   "cell_type": "code",
   "execution_count": null,
   "id": "9b4dc454",
   "metadata": {},
   "outputs": [],
   "source": [
    "#Question11\n",
    "'''To make a function as a generator funtion we have to use the yield keyword rather than a return\n",
    "keyword.'''"
   ]
  },
  {
   "cell_type": "code",
   "execution_count": null,
   "id": "6694505c",
   "metadata": {},
   "outputs": [],
   "source": [
    "#Question12\n",
    "'''The main benefit of a generator funtion is that it saves memory because it produces items when \n",
    "they are required i.e. it does not compute the value of each itme when instantiated, it only computes \n",
    "when we ask it.'''"
   ]
  },
  {
   "cell_type": "code",
   "execution_count": null,
   "id": "8a9d818b",
   "metadata": {},
   "outputs": [],
   "source": []
  },
  {
   "cell_type": "code",
   "execution_count": null,
   "id": "4ba1149b",
   "metadata": {},
   "outputs": [],
   "source": []
  }
 ],
 "metadata": {
  "kernelspec": {
   "display_name": "Python 3 (ipykernel)",
   "language": "python",
   "name": "python3"
  },
  "language_info": {
   "codemirror_mode": {
    "name": "ipython",
    "version": 3
   },
   "file_extension": ".py",
   "mimetype": "text/x-python",
   "name": "python",
   "nbconvert_exporter": "python",
   "pygments_lexer": "ipython3",
   "version": "3.9.12"
  }
 },
 "nbformat": 4,
 "nbformat_minor": 5
}
