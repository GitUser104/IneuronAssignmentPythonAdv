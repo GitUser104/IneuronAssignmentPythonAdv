{
 "cells": [
  {
   "cell_type": "code",
   "execution_count": null,
   "id": "e37e22d6",
   "metadata": {},
   "outputs": [],
   "source": [
    "#Question1\n",
    "'''There are a total of 47 functions for string type object in python.Some of the most \n",
    "common are as follows:\n",
    "\n",
    "capitalize( ) function\n",
    "lower( ) function\n",
    "title( ) function\n",
    "casefold( ) function\n",
    "upper( ) function\n",
    "count( ) function\n",
    "find( ) function\n",
    "replace( ) function\n",
    "swapcase( ) function\n",
    "join( ) function'''"
   ]
  },
  {
   "cell_type": "code",
   "execution_count": null,
   "id": "37ba912b",
   "metadata": {},
   "outputs": [],
   "source": [
    "#Question2\n",
    "'''There are many operations for string in python. Some of the common operations are :\n",
    "-Concatenation of two or more strings.\n",
    "-Extracting or slicing partial strings from string values.\n",
    "-Adding or removing spaces.\n",
    "-Converting to lower or upper case.\n",
    "-Formatting strings using string formatters.\n",
    "-Finding and/or replacing a text in the given string with some other text.'''"
   ]
  },
  {
   "cell_type": "code",
   "execution_count": null,
   "id": "ec3aa65e",
   "metadata": {},
   "outputs": [],
   "source": [
    "#Question4\n",
    "'''Text mode files are human readable files which can be opened by any text editor\n",
    "whereas bianry files are made up of machine readable characters and symbols which\n",
    "require specific programs to run.'''"
   ]
  },
  {
   "cell_type": "code",
   "execution_count": null,
   "id": "7573ff63",
   "metadata": {},
   "outputs": [],
   "source": [
    "#Question5\n",
    "'''We can specify the encoding attribute in the open() file function to match the encoding \n",
    "provided encoding in the text file.'''"
   ]
  },
  {
   "cell_type": "code",
   "execution_count": null,
   "id": "6b44604c",
   "metadata": {},
   "outputs": [],
   "source": [
    "#Question6\n",
    "'''To make a unicode text file into a particular encoding format we can use the open()\n",
    "function and specify the encoding attributw in the function.Bye default the encoding format is \n",
    "set to UTF-8.'''"
   ]
  },
  {
   "cell_type": "code",
   "execution_count": null,
   "id": "479893b6",
   "metadata": {},
   "outputs": [],
   "source": [
    "#Question7\n",
    "'''ASCII encodes symbols, digits, letters, etc., whereas Unicode encodes special texts from \n",
    "different languages, letters, symbols, etc. Thus it can be said that ASCII is a form or subset of \n",
    "unicode text.'''\n"
   ]
  },
  {
   "cell_type": "code",
   "execution_count": null,
   "id": "4564ae82",
   "metadata": {},
   "outputs": [],
   "source": [
    "\n"
   ]
  },
  {
   "cell_type": "code",
   "execution_count": null,
   "id": "dc3baccd",
   "metadata": {},
   "outputs": [],
   "source": []
  }
 ],
 "metadata": {
  "kernelspec": {
   "display_name": "Python 3 (ipykernel)",
   "language": "python",
   "name": "python3"
  },
  "language_info": {
   "codemirror_mode": {
    "name": "ipython",
    "version": 3
   },
   "file_extension": ".py",
   "mimetype": "text/x-python",
   "name": "python",
   "nbconvert_exporter": "python",
   "pygments_lexer": "ipython3",
   "version": "3.9.12"
  }
 },
 "nbformat": 4,
 "nbformat_minor": 5
}
