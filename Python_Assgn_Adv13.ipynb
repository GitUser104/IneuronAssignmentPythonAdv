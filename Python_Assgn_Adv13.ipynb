{
 "cells": [
  {
   "cell_type": "code",
   "execution_count": null,
   "id": "3ed65809",
   "metadata": {},
   "outputs": [],
   "source": [
    "#Question1\n",
    "'''Yes in python we can create a function or program that uses bith positive and negative\n",
    "indexing this enables us to faster access the elements whne there is a big dataset.\n",
    "No noth negative and positive indexing works the same thus there are no repercussions for the \n",
    "same.'''"
   ]
  },
  {
   "cell_type": "code",
   "execution_count": null,
   "id": "b9885106",
   "metadata": {},
   "outputs": [],
   "source": [
    "#Question2\n",
    "'''If all the elements are set tot the same value in a list then the fastest way to create a  \n",
    "list is the following approach:-\n",
    "l1 = ['0'] * 100'\n",
    "where '0' is the value in the list'''"
   ]
  },
  {
   "cell_type": "code",
   "execution_count": null,
   "id": "0a82c546",
   "metadata": {},
   "outputs": [],
   "source": [
    "#Question3\n",
    "'''When slicing a list we provide the starting index, the ending index and thereis a \n",
    "third parameter akniwn as the step size this step size is the no of elements we wish to \n",
    "skip as we traverse through the list.'''"
   ]
  },
  {
   "cell_type": "code",
   "execution_count": null,
   "id": "14e468ac",
   "metadata": {},
   "outputs": [],
   "source": [
    "#Queztion4\n",
    "'''->Indexing returns a single element | ->It returns a list/tuple.\n",
    "   ->If the index is too large then it | ->It handles the out of index error \n",
    "     throws an index error.            |   gently.\n",
    "   ->Length of the list can be changed | ->We can change the length of list or\n",
    "     by item assignment.               |   even clear it by assigning items to slicing.\n",
    "   ->We can assign single element or an| ->We cannot assing single element to slicing \n",
    "     iterable to indexing.             |   it only accept iterables.\n",
    "   '''"
   ]
  },
  {
   "cell_type": "code",
   "execution_count": null,
   "id": "fd8a522d",
   "metadata": {},
   "outputs": [],
   "source": [
    "#Question5\n",
    "'''If the index is too large the slicing operation simply returns the full list rather than throwing \n",
    "an error.'''"
   ]
  },
  {
   "cell_type": "code",
   "execution_count": null,
   "id": "2fc44b4d",
   "metadata": {},
   "outputs": [],
   "source": [
    "#Question7\n",
    "'''An unbalanced matrix is one where the number of rows is not equal to the number \n",
    "of coumns.'''"
   ]
  },
  {
   "cell_type": "code",
   "execution_count": null,
   "id": "ca3a5b7f",
   "metadata": {},
   "outputs": [],
   "source": [
    "#Question8\n",
    "'''To create arbitrarily large matrices we can use list comprehenesion because it takes less time \n",
    "and space complexity to execute a list comprehension. This can further be enhanced using the numpy\n",
    "module.'''"
   ]
  },
  {
   "cell_type": "code",
   "execution_count": null,
   "id": "8ef40e35",
   "metadata": {},
   "outputs": [],
   "source": [
    "#Question6\n",
    "'''The passed list should be a list type datastructure and not a tuple type datastructure since\n",
    "tuples are immutable in nature whereas list is a mutable type datastructure.'''"
   ]
  },
  {
   "cell_type": "code",
   "execution_count": null,
   "id": "44403265",
   "metadata": {},
   "outputs": [],
   "source": []
  }
 ],
 "metadata": {
  "kernelspec": {
   "display_name": "Python 3 (ipykernel)",
   "language": "python",
   "name": "python3"
  },
  "language_info": {
   "codemirror_mode": {
    "name": "ipython",
    "version": 3
   },
   "file_extension": ".py",
   "mimetype": "text/x-python",
   "name": "python",
   "nbconvert_exporter": "python",
   "pygments_lexer": "ipython3",
   "version": "3.9.12"
  }
 },
 "nbformat": 4,
 "nbformat_minor": 5
}
