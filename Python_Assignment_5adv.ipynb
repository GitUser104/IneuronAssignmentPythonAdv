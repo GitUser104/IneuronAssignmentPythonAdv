{
 "cells": [
  {
   "cell_type": "code",
   "execution_count": null,
   "id": "d3b314f8",
   "metadata": {},
   "outputs": [],
   "source": [
    "#Question1\n",
    "'''When we create a class which inherits characters of multiple classes the process is known as multiple inheritance. This \n",
    "new class possesses all the characters of the parent classes.'''"
   ]
  },
  {
   "cell_type": "code",
   "execution_count": null,
   "id": "ab1bdc05",
   "metadata": {},
   "outputs": [],
   "source": [
    "#Quewstion2\n",
    "'''Delegation is concept in which we can create an object of parent/known class\n",
    "inside a child/another class and we can create an object of this child class.Now when \n",
    "we can call this fucntionality of the parent class without creating an object for it using the child \n",
    "class i.e. we can use the method of class 1 by creating an object for it in class 2 using \n",
    "an object of class 2.'''"
   ]
  },
  {
   "cell_type": "code",
   "execution_count": 6,
   "id": "de5291f6",
   "metadata": {},
   "outputs": [
    {
     "data": {
      "text/plain": [
       "'Composition is the way in which we can access members of one class inside another class by using a class name or a variable \\nname. Here we create a class which references to the objects of another class as an instance variable.'"
      ]
     },
     "execution_count": 6,
     "metadata": {},
     "output_type": "execute_result"
    }
   ],
   "source": [
    "#Question3\n",
    "'''Composition is the way in which we can access members of one class inside another class by using a class name or a variable \n",
    "name. Here we create a class which references to the objects of another class as an instance variable.'''"
   ]
  },
  {
   "cell_type": "code",
   "execution_count": 7,
   "id": "bce17133",
   "metadata": {},
   "outputs": [
    {
     "data": {
      "text/plain": [
       "'A bound method is one which is dependent on the isntance of the class as first argument. Its is used to pass the instance as\\nthe first argument which is used to access the variables and the function'"
      ]
     },
     "execution_count": 7,
     "metadata": {},
     "output_type": "execute_result"
    }
   ],
   "source": [
    "#Question4\n",
    "'''A bound method is one which is dependent on the isntance of the class as first argument. Its is used to pass the instance as\n",
    "the first argument which is used to access the variables and the function'''"
   ]
  },
  {
   "cell_type": "code",
   "execution_count": null,
   "id": "ae14810f",
   "metadata": {},
   "outputs": [],
   "source": [
    "#Question5\n",
    "'''Pseudopricate attributes are used essentially to avoid clash of attributes bearing same \n",
    "names in different classes. Thus by using pseudoprivate coding we can explicitly state the class\n",
    "name followed by the attribute we want to fetch which avoids the confusion if there are \n",
    "two attributes in different classes with the same name.'''"
   ]
  },
  {
   "cell_type": "code",
   "execution_count": null,
   "id": "6bee9204",
   "metadata": {},
   "outputs": [],
   "source": []
  }
 ],
 "metadata": {
  "kernelspec": {
   "display_name": "Python 3 (ipykernel)",
   "language": "python",
   "name": "python3"
  },
  "language_info": {
   "codemirror_mode": {
    "name": "ipython",
    "version": 3
   },
   "file_extension": ".py",
   "mimetype": "text/x-python",
   "name": "python",
   "nbconvert_exporter": "python",
   "pygments_lexer": "ipython3",
   "version": "3.9.12"
  }
 },
 "nbformat": 4,
 "nbformat_minor": 5
}
