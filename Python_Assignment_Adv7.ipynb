{
 "cells": [
  {
   "cell_type": "code",
   "execution_count": null,
   "id": "0f5722fd",
   "metadata": {},
   "outputs": [],
   "source": [
    "#Question1\n",
    "'''The purpose of try statement to is initiate exception handling, when we type a \n",
    "piece of code in try block and if code fails or an error occurs the code execution \n",
    "goes straight to the except block where futher it is handled.'''"
   ]
  },
  {
   "cell_type": "code",
   "execution_count": null,
   "id": "866392db",
   "metadata": {},
   "outputs": [],
   "source": [
    "#Question2\n",
    "'''There are two variations of try and except i.e. one is else which executes when the \n",
    "there is no error in the code , other is finally which executes irrespective of if the code\n",
    "if error appears or not.'''"
   ]
  },
  {
   "cell_type": "code",
   "execution_count": null,
   "id": "a40ab10c",
   "metadata": {},
   "outputs": [],
   "source": [
    "#Question3\n",
    "'''The purpose of raise statement is to raise our own custom exception using the \n",
    "raise keyword.'''"
   ]
  },
  {
   "cell_type": "code",
   "execution_count": null,
   "id": "d7a91911",
   "metadata": {},
   "outputs": [],
   "source": [
    "#Question4\n",
    "'''Assertion statements helps us to debug the code i.e. when we use assert funtion\n",
    "the expression or onbject is tested for truthiness , if the expression or object is \n",
    "false then it throws an assertion error.\n",
    "We can also use the raise keyword to raise our own custom exception statement.'''"
   ]
  },
  {
   "cell_type": "code",
   "execution_count": null,
   "id": "f0e72bb6",
   "metadata": {},
   "outputs": [],
   "source": [
    "#Question5\n",
    "'''When we are working with open() function we need to explicitly close the file for proper \n",
    "execution of the code instead we can use the with keyword which closes the file automatically\n",
    "without us having to specify the close funtion call on the file.It comed in handy for exception \n",
    "handling and closes the file irrespective of any error(s) occuring while execution.'''"
   ]
  },
  {
   "cell_type": "code",
   "execution_count": null,
   "id": "e9c5ec31",
   "metadata": {},
   "outputs": [],
   "source": []
  }
 ],
 "metadata": {
  "kernelspec": {
   "display_name": "Python 3 (ipykernel)",
   "language": "python",
   "name": "python3"
  },
  "language_info": {
   "codemirror_mode": {
    "name": "ipython",
    "version": 3
   },
   "file_extension": ".py",
   "mimetype": "text/x-python",
   "name": "python",
   "nbconvert_exporter": "python",
   "pygments_lexer": "ipython3",
   "version": "3.9.12"
  }
 },
 "nbformat": 4,
 "nbformat_minor": 5
}
