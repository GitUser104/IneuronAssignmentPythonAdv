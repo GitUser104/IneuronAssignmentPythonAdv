{
 "cells": [
  {
   "cell_type": "code",
   "execution_count": null,
   "id": "b8452874",
   "metadata": {},
   "outputs": [],
   "source": [
    "#Question1\n",
    "'''\n",
    "Numpy arrays can be multidimensional whereas pandas dataframes are 2 dimensional \n",
    "only.\n",
    "We can convert an array to a pandas dataframe by reshaping the numoy array in a 2D array\n",
    "or matrix and then we can us the from_records function of the pandas dataframe.\n",
    "''' "
   ]
  },
  {
   "cell_type": "code",
   "execution_count": null,
   "id": "e13f3fa1",
   "metadata": {},
   "outputs": [],
   "source": [
    "#Question3\n",
    "'''\n",
    "The four most common charting techinques and charts used for stock market are line chart\n",
    ", candlestick chart , point and figure chart and bar chart.\n",
    "'''"
   ]
  },
  {
   "cell_type": "code",
   "execution_count": null,
   "id": "4f518024",
   "metadata": {},
   "outputs": [],
   "source": [
    "#Question4\n",
    "'''\n",
    "The legend is neccesary in s stock market chart as it displays the  the legend displays information \n",
    "about the points that are currently hovered over or, if none are hovered over, about the last points\n",
    "shown on the plot.\n",
    "'''"
   ]
  },
  {
   "cell_type": "code",
   "execution_count": null,
   "id": "f512f965",
   "metadata": {},
   "outputs": [],
   "source": [
    "#Question5\n",
    "'''\n",
    "We can reduce the size of a pandas dataframe using the iloc[] function where we can specify the range \n",
    "of the rows to be selected and store it to a variable.\n",
    "'''"
   ]
  },
  {
   "cell_type": "code",
   "execution_count": 1,
   "id": "f6149743",
   "metadata": {},
   "outputs": [],
   "source": [
    "#Question6\n",
    "'''\n",
    "Moving average is a stock indicator commonly used in technical analysis, used to help smooth\n",
    "out price data by creating a constantly updated average price. An average taken over an interval of \n",
    "past 180 days is known as 180 day moving average.\n",
    "'''"
   ]
  },
  {
   "cell_type": "code",
   "execution_count": null,
   "id": "5ffe6b5c",
   "metadata": {},
   "outputs": [],
   "source": []
  },
  {
   "cell_type": "code",
   "execution_count": null,
   "id": "22b36f97",
   "metadata": {},
   "outputs": [],
   "source": []
  }
 ],
 "metadata": {
  "kernelspec": {
   "display_name": "Python 3 (ipykernel)",
   "language": "python",
   "name": "python3"
  },
  "language_info": {
   "codemirror_mode": {
    "name": "ipython",
    "version": 3
   },
   "file_extension": ".py",
   "mimetype": "text/x-python",
   "name": "python",
   "nbconvert_exporter": "python",
   "pygments_lexer": "ipython3",
   "version": "3.9.12"
  }
 },
 "nbformat": 4,
 "nbformat_minor": 5
}
