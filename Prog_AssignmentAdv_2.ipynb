{
 "cells": [
  {
   "cell_type": "code",
   "execution_count": null,
   "id": "9b88540c",
   "metadata": {},
   "outputs": [],
   "source": [
    "#Question1\n",
    "'''The main differnce between classes and modules is that class is a blueprint \n",
    "for the object whereas module is used to run a piece of code inside another \n",
    "program\n",
    "Also a class can have it own instance but a module can not have its own instance'''"
   ]
  },
  {
   "cell_type": "code",
   "execution_count": null,
   "id": "f907eaae",
   "metadata": {},
   "outputs": [],
   "source": [
    "#Question2\n",
    "'''Classes can be defined using class keyword and instance can be created by \n",
    "calling the class name and passing whatever arguments its __init__ method accepts.'''"
   ]
  },
  {
   "cell_type": "code",
   "execution_count": null,
   "id": "a82e4ea0",
   "metadata": {},
   "outputs": [],
   "source": [
    "#Question3\n",
    "'''A class attribute should be created when there is a need to share the attribute \n",
    "to all the instances of the class i.e. it is available to all the instances,\n",
    "to create a class attribute we simply need to define the attribute outisde the\n",
    "__init__ method'''"
   ]
  },
  {
   "cell_type": "code",
   "execution_count": null,
   "id": "cd5032ba",
   "metadata": {},
   "outputs": [],
   "source": [
    "#Question4\n",
    "'''An instance attribute should be created when we want the attributs to be \n",
    "associated to a specific instance i.e. it is available to only that particular \n",
    "instance, changing these attributes doesnt affect other instances of the class.\n",
    "To create instance attributes we need to define them under the __init__() method\n",
    "'''"
   ]
  },
  {
   "cell_type": "code",
   "execution_count": null,
   "id": "37238087",
   "metadata": {},
   "outputs": [],
   "source": [
    "#Question5\n",
    "'''In python we use the self keyword to refer to the methods and attributes of \n",
    "the class.It helps us to bind the current instance with the attributes of the \n",
    "current class.'''"
   ]
  },
  {
   "cell_type": "code",
   "execution_count": null,
   "id": "74123851",
   "metadata": {},
   "outputs": [],
   "source": [
    "#Question6\n",
    "'''In python we can create a user defined class for overloading an operator \n",
    "i.e. give different meaning to the operator for ease of use.Thus, this user\n",
    "defined class helps us to extend the meaning of operator other than its predefined\n",
    "use.'''"
   ]
  },
  {
   "cell_type": "code",
   "execution_count": null,
   "id": "2ae53c90",
   "metadata": {},
   "outputs": [],
   "source": [
    "#Question7\n",
    "'''We should consider operator oveerloading when there is a need to extend the \n",
    "use of a given operator to make our program convenient, for eg- If we need to\n",
    "join two strings we can use '+' operator to conactenate the strings whcih is \n",
    "otherwise used to add two integer or float values'''"
   ]
  },
  {
   "cell_type": "code",
   "execution_count": null,
   "id": "1a3c8dc4",
   "metadata": {},
   "outputs": [],
   "source": [
    "#Question8\n",
    "'''The most popular overloading is the \"+\" operator where it is used to join \n",
    "two strings and addign two values.'''"
   ]
  },
  {
   "cell_type": "code",
   "execution_count": null,
   "id": "1b624a7b",
   "metadata": {},
   "outputs": [],
   "source": [
    "#Question9\n",
    "'''The two most important concepts to comprehend the OOPs concept are \n",
    "Polymorphism and Inheritance.'''"
   ]
  }
 ],
 "metadata": {
  "kernelspec": {
   "display_name": "Python 3 (ipykernel)",
   "language": "python",
   "name": "python3"
  },
  "language_info": {
   "codemirror_mode": {
    "name": "ipython",
    "version": 3
   },
   "file_extension": ".py",
   "mimetype": "text/x-python",
   "name": "python",
   "nbconvert_exporter": "python",
   "pygments_lexer": "ipython3",
   "version": "3.9.12"
  }
 },
 "nbformat": 4,
 "nbformat_minor": 5
}
