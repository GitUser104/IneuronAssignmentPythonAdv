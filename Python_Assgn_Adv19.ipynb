{
 "cells": [
  {
   "cell_type": "code",
   "execution_count": null,
   "id": "8f2ec52c",
   "metadata": {},
   "outputs": [],
   "source": [
    "#Question1\n",
    "'''\n",
    "Class acts as a blueprint for objects which defines the behaviour and characterstics \n",
    "for certain objects these objects are known as instances of class.The relation between \n",
    "a class and its objects is that of one to many kind.\n",
    "'''"
   ]
  },
  {
   "cell_type": "code",
   "execution_count": null,
   "id": "2d3213f2",
   "metadata": {},
   "outputs": [],
   "source": [
    "#Question2\n",
    "'''\n",
    "The data held only in an instance is called an instance attribute of the object.\n",
    "This data is specific to the object created and is not shared by other objects or \n",
    "instances of the class. iT is defined inside the constructor funtion __init__() of \n",
    "the class.\n",
    "'''"
   ]
  },
  {
   "cell_type": "code",
   "execution_count": null,
   "id": "c6df5e18",
   "metadata": {},
   "outputs": [],
   "source": [
    "#Question3\n",
    "'''\n",
    "The type if data that is stored in a class is known as class attributes and is specific \n",
    "to the class, but here this data is shared by all the instances of the class.It is defined\n",
    "outiside the constructor function __init__() of the class.\n",
    "'''\n"
   ]
  },
  {
   "cell_type": "code",
   "execution_count": null,
   "id": "0960cc08",
   "metadata": {},
   "outputs": [],
   "source": [
    "#Question4\n",
    "'''\n",
    "A method is another name for a function but a method is associated to an object.\n",
    "We need the name of the object to call a method whereas we can call a funtion \n",
    "independently.\n",
    "'''\n"
   ]
  },
  {
   "cell_type": "code",
   "execution_count": null,
   "id": "ec8eb7f2",
   "metadata": {},
   "outputs": [],
   "source": [
    "#Question5\n",
    "'''\n",
    "Yes inheritance is supported in pyhton, to do so we only need to pass the name of\n",
    "parent class as an argument to the chikld class. For ex:-\n",
    "\n",
    "class A:\n",
    "    print('Parent class')\n",
    "\n",
    "class B(A):\n",
    "    print('Child class')\n",
    "\n",
    "'''"
   ]
  },
  {
   "cell_type": "code",
   "execution_count": null,
   "id": "7d264b6a",
   "metadata": {},
   "outputs": [],
   "source": [
    "#Question6\n",
    "'''\n",
    "Python has 3 levels of encapsulation i.e. public, private and protected.\n",
    "->Public variable is available to everyone and can be accessed througput a class.\n",
    "\n",
    "->Protected Variable can only be accessed within the same class or its subclasses.\n",
    "\n",
    "->Private variable can only be accessed within a class and we need to use the name \n",
    "  mangling concept to access the variable.\n",
    "\n",
    "'''"
   ]
  },
  {
   "cell_type": "code",
   "execution_count": null,
   "id": "05ad7f93",
   "metadata": {},
   "outputs": [],
   "source": [
    "#Question7\n",
    "'''\n",
    "->Class Variables\n",
    "Class variables are defined within the class but outside of any class methods.\n",
    "\n",
    "Changes made in class varaibles affect all other instances if the class.\n",
    "\n",
    "They are shared among all the instances of the class.\n",
    "\n",
    "\n",
    "->Instance Variables\n",
    "Instance variables are defined wuthin the class methods generally constructors.\n",
    "\n",
    "Changes made to these variables do not affect other instances.\n",
    "\n",
    "They are used to store data that is unique to the each instance of a class.\n",
    "'''\n"
   ]
  },
  {
   "cell_type": "code",
   "execution_count": null,
   "id": "55de2869",
   "metadata": {},
   "outputs": [],
   "source": [
    "#Question8\n",
    "'''\n",
    "Self is used to refer and access the current attributes of the class.\n",
    "Though it is not mandatory to use self but when we want to intialize attributes \n",
    "of a class it should explicitly bve mentioned as the first argument to access \n",
    "these attributes of the class using any object.\n",
    "'''"
   ]
  },
  {
   "cell_type": "code",
   "execution_count": null,
   "id": "727ce8d7",
   "metadata": {},
   "outputs": [],
   "source": [
    "#Question9\n",
    "'''\n",
    "The method __add__ gives us the result as x + y whereas the __radd__ givews us \n",
    "the result as y + x.\n",
    "'''"
   ]
  },
  {
   "cell_type": "code",
   "execution_count": null,
   "id": "d99441b6",
   "metadata": {},
   "outputs": [],
   "source": [
    "#Question11\n",
    "'''\n",
    "The method __iadd__ is called a dunder method which stands for double underscore method.\n",
    "These methods are also known as magic methods.\n",
    "'''"
   ]
  },
  {
   "cell_type": "code",
   "execution_count": null,
   "id": "53401526",
   "metadata": {},
   "outputs": [],
   "source": [
    "#Question12\n",
    "'''\n",
    "Yes the __init__ method is inherited by subclasses. \n",
    "To customize or override a __init__ contructor method we need to define a new __init__\n",
    "contructor inside the child class this causes the funtion call to look for instance method\n",
    " inside the child class to use the parents constructor we can sue the super.__init__()\n",
    "command inside the constructor of the child class.\n",
    "'''"
   ]
  },
  {
   "cell_type": "code",
   "execution_count": null,
   "id": "9481cd8b",
   "metadata": {},
   "outputs": [],
   "source": []
  },
  {
   "cell_type": "code",
   "execution_count": null,
   "id": "d07c91db",
   "metadata": {},
   "outputs": [],
   "source": []
  },
  {
   "cell_type": "code",
   "execution_count": null,
   "id": "182d9e74",
   "metadata": {},
   "outputs": [],
   "source": []
  }
 ],
 "metadata": {
  "kernelspec": {
   "display_name": "Python 3 (ipykernel)",
   "language": "python",
   "name": "python3"
  },
  "language_info": {
   "codemirror_mode": {
    "name": "ipython",
    "version": 3
   },
   "file_extension": ".py",
   "mimetype": "text/x-python",
   "name": "python",
   "nbconvert_exporter": "python",
   "pygments_lexer": "ipython3",
   "version": "3.9.12"
  }
 },
 "nbformat": 4,
 "nbformat_minor": 5
}
