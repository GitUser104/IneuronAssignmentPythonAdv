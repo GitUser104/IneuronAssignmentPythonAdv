{
 "cells": [
  {
   "cell_type": "code",
   "execution_count": null,
   "id": "f654ae8b",
   "metadata": {},
   "outputs": [],
   "source": [
    "#Question1\n",
    "'''\n",
    "The three way to use exceptioon processing are :\n",
    "\n",
    "Try-except :- If the code fails in the try block the it goes to the except block where we can handle the error.\n",
    "Try_except-else:- Same as above except the fact that the code in the else block is executed only if the code doesnt fail. \n",
    "Try-except-finally:- same as above but here the code in the finally block is executed no matter what, i.e. even if the code fails.\n",
    "'''"
   ]
  },
  {
   "cell_type": "code",
   "execution_count": null,
   "id": "037136c2",
   "metadata": {},
   "outputs": [],
   "source": [
    "#Question2\n",
    "'''\n",
    "If we dont handle an exception then our code terminates abruptly and code past the line that \n",
    "caused the exception will not be executed.\n",
    "'''"
   ]
  },
  {
   "cell_type": "code",
   "execution_count": null,
   "id": "22041a79",
   "metadata": {},
   "outputs": [],
   "source": [
    "#Question3\n",
    "'''\n",
    "We can use the multiple except statements to handle the exception in out try block.\n",
    "Other way is to use the assert statement which check the expression for truthness and if the\n",
    "expression comes out to be false it throws an AssertionError.\n",
    "'''"
   ]
  },
  {
   "cell_type": "code",
   "execution_count": null,
   "id": "ffbb54cd",
   "metadata": {},
   "outputs": [],
   "source": [
    "#Question4\n",
    "'''\n",
    "The two ways to trigger an exception are:-\n",
    "Try: Catches exceptions raised by Python or a program.\n",
    "Raise: A custom exception that triggers an exception manually.\n",
    "'''"
   ]
  },
  {
   "cell_type": "code",
   "execution_count": null,
   "id": "9daa6c8f",
   "metadata": {},
   "outputs": [],
   "source": [
    "#Question5\n",
    "'''\n",
    "The two methods which can be are we can define an else clause after except block which \n",
    "executed the code written inside if the coed runs successfully i.e. it does not fail and\n",
    "we can use a finally clause which executes the code written in the its block irrespective \n",
    "of the exception occuring or not.\n",
    "'''"
   ]
  },
  {
   "cell_type": "code",
   "execution_count": null,
   "id": "47f3c497",
   "metadata": {},
   "outputs": [],
   "source": []
  },
  {
   "cell_type": "code",
   "execution_count": null,
   "id": "d31ffbc4",
   "metadata": {},
   "outputs": [],
   "source": []
  }
 ],
 "metadata": {
  "kernelspec": {
   "display_name": "Python 3 (ipykernel)",
   "language": "python",
   "name": "python3"
  },
  "language_info": {
   "codemirror_mode": {
    "name": "ipython",
    "version": 3
   },
   "file_extension": ".py",
   "mimetype": "text/x-python",
   "name": "python",
   "nbconvert_exporter": "python",
   "pygments_lexer": "ipython3",
   "version": "3.9.12"
  }
 },
 "nbformat": 4,
 "nbformat_minor": 5
}
