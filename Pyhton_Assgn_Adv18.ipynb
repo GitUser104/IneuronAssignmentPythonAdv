{
 "cells": [
  {
   "cell_type": "code",
   "execution_count": null,
   "id": "3a53539a",
   "metadata": {},
   "outputs": [],
   "source": [
    "#Question1\n",
    "'''\n",
    "There are mainly two types of data files — text file and binary file. A text file consists of human readable characters, which \n",
    "can be opened by any text editor. On the other hand, binary files are made up of non-human readable characters and symbols \n",
    "which require specific programs to access its contents.\n",
    "'''"
   ]
  },
  {
   "cell_type": "code",
   "execution_count": null,
   "id": "a3e5f9ce",
   "metadata": {},
   "outputs": [],
   "source": [
    "#Question2\n",
    "'''\n",
    "Text file are human readable files thus when we need to store data that needs to be later edited \n",
    "or modified or read by the user we store the data in text file format.\n",
    "Binary files are machine readable and are much more compact in anture thus are used to store \n",
    "items such as images, videos, audios and even text files.\n",
    "'''\n"
   ]
  },
  {
   "cell_type": "code",
   "execution_count": null,
   "id": "81b6eb27",
   "metadata": {},
   "outputs": [],
   "source": [
    "#Question3\n",
    "'''\n",
    "Writing a binary form directly to disc requires us to convert the info we wish to lodge into byte type data \n",
    "for which we must use either a buiklt in module or and external library. Similarly for reading a data we\n",
    "need to use an external or builtin package to convert the binary data to humna readbale form since if we try \n",
    "and opne the data using open rb funtion it will give us machine readable form which cannot be interpreted \n",
    "by us.\n",
    "'''"
   ]
  },
  {
   "cell_type": "code",
   "execution_count": null,
   "id": "f617936f",
   "metadata": {},
   "outputs": [],
   "source": [
    "#Question4\n",
    "'''\n",
    "Using a with keyword means that as soon as we leave the write block the file will automatically be closed \n",
    "without having to specify the f.close() fucntion.\n",
    "'''"
   ]
  },
  {
   "cell_type": "code",
   "execution_count": null,
   "id": "6fbbfe03",
   "metadata": {},
   "outputs": [],
   "source": [
    "#Question5\n",
    "'''\n",
    "Yes pyhton provides us a trailing new line while reading a new line of text. \n",
    "No the write funtion of python does not add a new line automatically when we write a new line of text.\n",
    "'''"
   ]
  },
  {
   "cell_type": "code",
   "execution_count": null,
   "id": "0461df5a",
   "metadata": {},
   "outputs": [],
   "source": [
    "#QUestion6\n",
    "'''\n",
    "The linecache module provides random access to any part of text file. It contains several function out \n",
    "of which getline() function is the most extensively used.\n",
    "'''"
   ]
  },
  {
   "cell_type": "code",
   "execution_count": null,
   "id": "f16797f7",
   "metadata": {},
   "outputs": [],
   "source": [
    "#Question7\n",
    "'''\n",
    "The struct module us mostly used to handle binary data stored in databases, files or network connections etc.\n",
    "'''"
   ]
  },
  {
   "cell_type": "code",
   "execution_count": null,
   "id": "af7fa9ef",
   "metadata": {},
   "outputs": [],
   "source": [
    "#Question8\n",
    "'''\n",
    "If we do not want to store our data in human readable format and store the data in a serialized manner \n",
    "we should use pickling.\n",
    "'''"
   ]
  },
  {
   "cell_type": "code",
   "execution_count": null,
   "id": "0a5b96ed",
   "metadata": {},
   "outputs": [],
   "source": [
    "#Question9\n",
    "'''\n",
    "Shelves are useful when we want to store a data that is small in size and is less complex.\n",
    "It is used when we dont want to use a relational database.\n",
    "'''"
   ]
  },
  {
   "cell_type": "code",
   "execution_count": null,
   "id": "46c37a08",
   "metadata": {},
   "outputs": [],
   "source": [
    "#Question10\n",
    "'''\n",
    "Since the shelve package is built on top of pickle it can only work on datatypes accepted by \n",
    "pickle.\n",
    "Futher it stores data in key-value pairt forms, its keys can only have string datatype.\n",
    "'''"
   ]
  },
  {
   "cell_type": "code",
   "execution_count": null,
   "id": "f9a94698",
   "metadata": {},
   "outputs": [],
   "source": []
  },
  {
   "cell_type": "code",
   "execution_count": null,
   "id": "041c990c",
   "metadata": {},
   "outputs": [],
   "source": []
  },
  {
   "cell_type": "code",
   "execution_count": null,
   "id": "92f9a1ee",
   "metadata": {},
   "outputs": [],
   "source": []
  }
 ],
 "metadata": {
  "kernelspec": {
   "display_name": "Python 3 (ipykernel)",
   "language": "python",
   "name": "python3"
  },
  "language_info": {
   "codemirror_mode": {
    "name": "ipython",
    "version": 3
   },
   "file_extension": ".py",
   "mimetype": "text/x-python",
   "name": "python",
   "nbconvert_exporter": "python",
   "pygments_lexer": "ipython3",
   "version": "3.9.12"
  }
 },
 "nbformat": 4,
 "nbformat_minor": 5
}
