{
 "cells": [
  {
   "cell_type": "code",
   "execution_count": null,
   "id": "8de2e477",
   "metadata": {},
   "outputs": [],
   "source": [
    "#Question1\n",
    "'''Yes a string is an immutable onbject therefore we cannot assign the indexed character\n",
    "of a string to any value. For ex:- \n",
    "obj1 = \"ineuron\" \n",
    "-> obj[1] == 1 or a will throw an error.\n",
    "we cannot assign any character inside this string to any value.'''"
   ]
  },
  {
   "cell_type": "code",
   "execution_count": null,
   "id": "1440ae8a",
   "metadata": {},
   "outputs": [],
   "source": [
    "#Question2\n",
    "'''Yes we can use the inpalce addition to concatenate two strings since intially the varibale \n",
    "was pointing to orginal string but when we use inplace addtion it creates a new string and the\n",
    "cariable starts pointing towards this newly created string.'''\n"
   ]
  },
  {
   "cell_type": "code",
   "execution_count": null,
   "id": "1447cc0f",
   "metadata": {},
   "outputs": [],
   "source": [
    "#Question3\n",
    "'''We can index a character from a string by using the slicing operations and other is \n",
    "by specifying the index position of the element.For ex:-\n",
    "A = \"ineuron\" \n",
    "lets say we want the character 'e'\n",
    "using slicing -> A[2:3] will provide us the character 'e'.\n",
    "using index position -> A[3] will produce the same result.\n",
    "using negative indexing -> A[-5] will also provide us with the same result.\n",
    "'''\n"
   ]
  },
  {
   "cell_type": "code",
   "execution_count": null,
   "id": "0d5f6fb3",
   "metadata": {},
   "outputs": [],
   "source": [
    "#Question4\n",
    "'''Indexing means refering to a charcater or value inside an iteranble using its index position\n",
    "wheareas slicing means getting a subset from the iterable using its index position inside the \n",
    "iterable.'''"
   ]
  },
  {
   "cell_type": "code",
   "execution_count": null,
   "id": "359fa5fd",
   "metadata": {},
   "outputs": [],
   "source": [
    "#Question5\n",
    "'''The datatype using slicing is the same as the original datatype i.e. for ex slicing a list\n",
    "generates a list type data \n",
    "When when we index a iterable the data is the primitive type of data that it really was when not a \n",
    "part of the iterable. For ex:-\n",
    "When we index a list of characters it gives us a string type data and when we index a list of \n",
    "integers it gives us the data type as int type.'''\n"
   ]
  },
  {
   "cell_type": "code",
   "execution_count": 61,
   "id": "e08fbf3c",
   "metadata": {},
   "outputs": [],
   "source": [
    "#Question6\n",
    "'''We do not have a specific character type in python a single character is simply reagrded as\n",
    "a string with length 1. The type of character is given as an str eben in that case.'''"
   ]
  },
  {
   "cell_type": "code",
   "execution_count": null,
   "id": "73dc225e",
   "metadata": {},
   "outputs": [],
   "source": [
    "#Question7\n",
    "'''We can use the '+' operator and '%' operator to join two strings.\n",
    "Apart from this we can also use the join() function to concatenate two strings.'''"
   ]
  },
  {
   "cell_type": "code",
   "execution_count": null,
   "id": "59cb274a",
   "metadata": {},
   "outputs": [],
   "source": [
    "#Question8\n",
    "'''Using the in and not in method before using the index method is to help avoid errors from \n",
    "coming up as the above operation will simply check for a match and return a simple true, if present\n",
    "or false, if not present.\n",
    "'''"
   ]
  },
  {
   "cell_type": "code",
   "execution_count": null,
   "id": "7f6bd074",
   "metadata": {},
   "outputs": [],
   "source": [
    "#Question9\n",
    "'''\n",
    "Following are the string methods which give a boolean response:-\n",
    "isalnum()\n",
    "isalpha()\n",
    "isascii()\n",
    "isdecimal()\n",
    "isdigit()\n",
    "isidentifier()\n",
    "islower()\n",
    "isnumeric()\n",
    "isprintable()\n",
    "isspace()\n",
    "istitle()\n",
    "isupper()\n",
    "In addition to this operators like 'in' , 'not in','==' and '!='\n",
    "also produce boolean results.\n",
    "'''"
   ]
  },
  {
   "cell_type": "code",
   "execution_count": null,
   "id": "7ac8881b",
   "metadata": {},
   "outputs": [],
   "source": []
  },
  {
   "cell_type": "code",
   "execution_count": null,
   "id": "f9e980f9",
   "metadata": {},
   "outputs": [],
   "source": []
  },
  {
   "cell_type": "code",
   "execution_count": null,
   "id": "df157896",
   "metadata": {},
   "outputs": [],
   "source": []
  }
 ],
 "metadata": {
  "kernelspec": {
   "display_name": "Python 3 (ipykernel)",
   "language": "python",
   "name": "python3"
  },
  "language_info": {
   "codemirror_mode": {
    "name": "ipython",
    "version": 3
   },
   "file_extension": ".py",
   "mimetype": "text/x-python",
   "name": "python",
   "nbconvert_exporter": "python",
   "pygments_lexer": "ipython3",
   "version": "3.9.12"
  }
 },
 "nbformat": 4,
 "nbformat_minor": 5
}
