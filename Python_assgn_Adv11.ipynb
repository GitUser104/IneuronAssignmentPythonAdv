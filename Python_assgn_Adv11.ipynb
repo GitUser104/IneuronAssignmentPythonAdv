{
 "cells": [
  {
   "cell_type": "code",
   "execution_count": null,
   "id": "f00b8e4f",
   "metadata": {},
   "outputs": [],
   "source": [
    "#Question1\n",
    "'''Since everything in python is classes and objects thus any class we create or \n",
    "have present already is an object of a class this bigger class is known as metaclass\n",
    "whcih is type 'type' bye default.'''\n"
   ]
  },
  {
   "cell_type": "code",
   "execution_count": null,
   "id": "04043b00",
   "metadata": {},
   "outputs": [],
   "source": [
    "#Question2\n",
    "'''There are two ways to declare a class's metaclass either using the metaclass keyword inside \n",
    "the class definition or inheriting the class which already has the metaclass defined. When we \n",
    "define a class and no metaclass is defined then the default metaclass used will by of 'type'.'''\n"
   ]
  },
  {
   "cell_type": "code",
   "execution_count": null,
   "id": "55e8482a",
   "metadata": {},
   "outputs": [],
   "source": [
    "#Question3\n",
    "'''Decorators modify the given class and return the value whereas a metaclass creates a new class \n",
    "and then returns the value.'''"
   ]
  },
  {
   "cell_type": "code",
   "execution_count": null,
   "id": "3abdc7c5",
   "metadata": {},
   "outputs": [],
   "source": [
    "#Question4\n",
    "'''Decorators deals only with the particular instance where it is used wheread a metaclass will affect \n",
    "all the child classes where it is inherited and used.'''"
   ]
  },
  {
   "cell_type": "code",
   "execution_count": null,
   "id": "0acb713d",
   "metadata": {},
   "outputs": [],
   "source": []
  },
  {
   "cell_type": "code",
   "execution_count": null,
   "id": "e9b02d4f",
   "metadata": {},
   "outputs": [],
   "source": []
  }
 ],
 "metadata": {
  "kernelspec": {
   "display_name": "Python 3 (ipykernel)",
   "language": "python",
   "name": "python3"
  },
  "language_info": {
   "codemirror_mode": {
    "name": "ipython",
    "version": 3
   },
   "file_extension": ".py",
   "mimetype": "text/x-python",
   "name": "python",
   "nbconvert_exporter": "python",
   "pygments_lexer": "ipython3",
   "version": "3.9.12"
  }
 },
 "nbformat": 4,
 "nbformat_minor": 5
}
