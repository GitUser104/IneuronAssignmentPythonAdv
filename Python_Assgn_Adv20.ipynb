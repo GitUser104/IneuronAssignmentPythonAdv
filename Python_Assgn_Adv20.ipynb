{
 "cells": [
  {
   "cell_type": "code",
   "execution_count": null,
   "id": "8996e80a",
   "metadata": {},
   "outputs": [],
   "source": [
    "#Question1\n",
    "'''\n",
    "The benefit of using float classes is that they can represent values between the\n",
    "integers and they can represent a greater range of values.\n",
    "The major drawback is that computation using float data is that it is slow in \n",
    "computation as compared to intgers and can lose precision. \n",
    "\n",
    "Decimal on the other hand is a module which can be used to overcome this problem of \n",
    "aprroximate results and give precise calculations to avoid any error in application \n",
    "time. We should not convert a float data to decimal data otherwise it can result in \n",
    "same fault being propagated to decimal type also.\n",
    "'''"
   ]
  },
  {
   "cell_type": "code",
   "execution_count": null,
   "id": "5ec695b1",
   "metadata": {},
   "outputs": [],
   "source": [
    "#Question2\n",
    "'''\n",
    "The two values '1.2' and '1.200' are essentially the same object in the sense that \n",
    "they both are equivalent to each other and represent the same measure. But internally\n",
    "both these objects correspond to different memory locations and are stored as diffrent \n",
    "objects.\n",
    "'''"
   ]
  },
  {
   "cell_type": "code",
   "execution_count": null,
   "id": "589b438d",
   "metadata": {},
   "outputs": [],
   "source": [
    "#Question3\n",
    "'''\n",
    "If the equality of  '1.2' and '1.200' is checked it would turn out to be true.\n",
    "'''"
   ]
  },
  {
   "cell_type": "code",
   "execution_count": null,
   "id": "abf677de",
   "metadata": {},
   "outputs": [],
   "source": [
    "#Question4\n",
    "'''\n",
    "Since float datatype is not precise therefore if we convert this float data to decimal \n",
    "data it can carry this approximation to decimal datatype as well which can result in \n",
    "in non-precise results for it aswell."
   ]
  },
  {
   "cell_type": "code",
   "execution_count": null,
   "id": "00732c41",
   "metadata": {},
   "outputs": [],
   "source": [
    "#Question5\n",
    "'''\n",
    "Decimal and integer datatypes can be easily combined to perform different types \n",
    "of arithmetic operations.\n",
    "'''"
   ]
  },
  {
   "cell_type": "code",
   "execution_count": null,
   "id": "05d6dc1c",
   "metadata": {},
   "outputs": [],
   "source": [
    "#Question6\n",
    "'''\n",
    "Operation between float nad decimal dataype is not simple and raises an error if\n",
    "we try and combine the two datatypes for any arithmetic operations.\n",
    "'''"
   ]
  },
  {
   "cell_type": "code",
   "execution_count": null,
   "id": "93e49f04",
   "metadata": {},
   "outputs": [],
   "source": [
    "#Question7\n",
    "'''\n",
    "The value of mathematical pi can be precisely given by fraction i.e. fraction(22,7)\n",
    "'''"
   ]
  },
  {
   "cell_type": "code",
   "execution_count": null,
   "id": "ca2e3e48",
   "metadata": {},
   "outputs": [],
   "source": [
    "#Question8\n",
    "'''\n",
    "Consider the following example :-\n",
    "\n",
    "dcl = dcl = decimal.Decimal('1') #Represents the decimal class 1\n",
    "flt = float('1')                 #Represents the float class 1\n",
    "frtn = fractions.Fraction('1')   #Represetns the fraction class 1\n",
    "\n",
    "print(dcl/3)\n",
    "print(flt/3)\n",
    "print(frtn/3)\n",
    "\n",
    "#Outputs will be \n",
    "-> 0.3333333333333333333333333333\n",
    "-> 0.3333333333333333\n",
    "-> 1/3\n",
    "\n",
    "Thus we can clearly see from above that decimal has more precision and fraction is able \n",
    "to represent the output more precisely as compared to the floating point number.\n",
    "'''"
   ]
  },
  {
   "cell_type": "code",
   "execution_count": null,
   "id": "c661ffe9",
   "metadata": {},
   "outputs": [],
   "source": [
    "#Question9\n",
    "'''\n",
    "No , eventhough the two fraction objects created are equal in value they are two diffrent\n",
    "object of the same class i.e. fraction.\n",
    "This is because each object has a different memory address or id and occupies different \n",
    "spaces internally.\n",
    "'''"
   ]
  },
  {
   "cell_type": "code",
   "execution_count": null,
   "id": "11d76d98",
   "metadata": {},
   "outputs": [],
   "source": [
    "#Question10\n",
    "'''\n",
    "Both integer and fraction class are realted in a cotainement manner i.ee a fraction object \n",
    "can be created using two integers.\n",
    "for ex:-\n",
    "\n",
    "num = fractions.Fraction(16,-10)\n",
    "\n",
    "O/P -> 8/5\n",
    "\n",
    "Here by default first argument is taken as numeratior and second argument is taken as denominator.\n",
    "'''"
   ]
  },
  {
   "cell_type": "code",
   "execution_count": null,
   "id": "e400e995",
   "metadata": {},
   "outputs": [],
   "source": []
  },
  {
   "cell_type": "code",
   "execution_count": 38,
   "id": "6fc555f3",
   "metadata": {},
   "outputs": [
    {
     "name": "stdout",
     "output_type": "stream",
     "text": [
      "<class 'fractions.Fraction'>\n",
      "2\n"
     ]
    }
   ],
   "source": [
    "import fractions\n",
    "num = fractions.Fraction(16,8)\n",
    "print(type(num))\n",
    "\n",
    "dec = int(num)\n",
    "print(dec)"
   ]
  }
 ],
 "metadata": {
  "kernelspec": {
   "display_name": "Python 3 (ipykernel)",
   "language": "python",
   "name": "python3"
  },
  "language_info": {
   "codemirror_mode": {
    "name": "ipython",
    "version": 3
   },
   "file_extension": ".py",
   "mimetype": "text/x-python",
   "name": "python",
   "nbconvert_exporter": "python",
   "pygments_lexer": "ipython3",
   "version": "3.9.12"
  }
 },
 "nbformat": 4,
 "nbformat_minor": 5
}
